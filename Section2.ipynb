{
 "cells": [
  {
   "cell_type": "code",
   "execution_count": 1,
   "id": "373ee051",
   "metadata": {},
   "outputs": [
    {
     "name": "stdout",
     "output_type": "stream",
     "text": [
      "my name is Jose\n"
     ]
    }
   ],
   "source": [
    "person = \"Jose\"\n",
    "print(f\"my name is {person}\")"
   ]
  },
  {
   "cell_type": "code",
   "execution_count": 3,
   "id": "7fb0c2ba",
   "metadata": {},
   "outputs": [
    {
     "name": "stdout",
     "output_type": "stream",
     "text": [
      "My number is 123\n"
     ]
    }
   ],
   "source": [
    "d= {'a':123,'b':456}\n",
    "print(f\"My number is {d['a']}\")"
   ]
  },
  {
   "cell_type": "code",
   "execution_count": 4,
   "id": "f4d33893",
   "metadata": {},
   "outputs": [],
   "source": [
    "myList = [1,2,3]"
   ]
  },
  {
   "cell_type": "code",
   "execution_count": 6,
   "id": "b8184251",
   "metadata": {},
   "outputs": [
    {
     "name": "stdout",
     "output_type": "stream",
     "text": [
      "my number is 1\n"
     ]
    }
   ],
   "source": [
    "print(f\"my number is {myList[0]}\")"
   ]
  },
  {
   "cell_type": "code",
   "execution_count": 8,
   "id": "2b551f8d",
   "metadata": {},
   "outputs": [
    {
     "data": {
      "text/plain": [
       "[('Author', 'Topic', 'Pages'),\n",
       " ('Twain', 'Rafting', 601),\n",
       " ('Feynman', 'Physics', 95),\n",
       " ('Hamilton', 'Mythology', 144)]"
      ]
     },
     "execution_count": 8,
     "metadata": {},
     "output_type": "execute_result"
    }
   ],
   "source": [
    "library = [('Author', 'Topic', 'Pages'), ('Twain', 'Rafting', 601), ('Feynman', 'Physics', 95), ('Hamilton', 'Mythology', 144)]\n",
    "library"
   ]
  },
  {
   "cell_type": "code",
   "execution_count": 15,
   "id": "10fb7ea3",
   "metadata": {},
   "outputs": [
    {
     "name": "stdout",
     "output_type": "stream",
     "text": [
      "Author     Topic                .....Pages\n",
      "Twain      Rafting              .......601\n",
      "Feynman    Physics              ........95\n",
      "Hamilton   Mythology            .......144\n"
     ]
    }
   ],
   "source": [
    "for book in library:\n",
    "    print(f'{book[0]:{10}} {book[1]:{20}} {book[2]:.>{10}}')# Min {no.of spaces}"
   ]
  },
  {
   "cell_type": "code",
   "execution_count": 20,
   "id": "7f5477a9",
   "metadata": {},
   "outputs": [
    {
     "name": "stdout",
     "output_type": "stream",
     "text": [
      "2022-01-11 00:00:00\n"
     ]
    }
   ],
   "source": [
    "from datetime import datetime\n",
    "today = datetime(year = 2022, month =1, day= 11 )\n",
    "print(today)"
   ]
  },
  {
   "cell_type": "code",
   "execution_count": 21,
   "id": "6a15da5d",
   "metadata": {},
   "outputs": [
    {
     "data": {
      "text/plain": [
       "datetime.datetime(2022, 1, 11, 0, 0)"
      ]
     },
     "execution_count": 21,
     "metadata": {},
     "output_type": "execute_result"
    }
   ],
   "source": [
    "today"
   ]
  },
  {
   "cell_type": "code",
   "execution_count": 25,
   "id": "28c23095",
   "metadata": {},
   "outputs": [
    {
     "name": "stdout",
     "output_type": "stream",
     "text": [
      "January 11, 2022\n"
     ]
    }
   ],
   "source": [
    "print(f\"{today:%B %d, %Y}\")#strftime table"
   ]
  },
  {
   "cell_type": "code",
   "execution_count": 31,
   "id": "3900f98c",
   "metadata": {},
   "outputs": [
    {
     "name": "stdout",
     "output_type": "stream",
     "text": [
      "Writing Test.txt\n"
     ]
    }
   ],
   "source": [
    "%%writefile Test.txt\n",
    "Hello, this is a quick test file.\n",
    "This is the second line of text."
   ]
  },
  {
   "cell_type": "code",
   "execution_count": 32,
   "id": "82063192",
   "metadata": {},
   "outputs": [],
   "source": [
    "#ONLY FOR JUPYTER TO WRITE IN TEXT FILES"
   ]
  },
  {
   "cell_type": "code",
   "execution_count": 33,
   "id": "fc078924",
   "metadata": {},
   "outputs": [
    {
     "data": {
      "text/plain": [
       "'C:\\\\Users\\\\HARSHIT\\\\ML\\\\NLP'"
      ]
     },
     "execution_count": 33,
     "metadata": {},
     "output_type": "execute_result"
    }
   ],
   "source": [
    "pwd"
   ]
  },
  {
   "cell_type": "code",
   "execution_count": 36,
   "id": "331aa681",
   "metadata": {},
   "outputs": [
    {
     "data": {
      "text/plain": [
       "<_io.TextIOWrapper name='test.txt' mode='r' encoding='cp1252'>"
      ]
     },
     "execution_count": 36,
     "metadata": {},
     "output_type": "execute_result"
    }
   ],
   "source": [
    "myfile = open('test.txt')    \n",
    "myfile"
   ]
  },
  {
   "cell_type": "markdown",
   "id": "f2356b31",
   "metadata": {},
   "source": [
    "For Windows you need to use double \\ so python doesn't treat the second \\ as an escape character, a file path is in the form:\n",
    "\n",
    "myfile = open(\"C:\\\\Users\\\\YourUserName\\\\Home\\\\Folder\\\\myfile.txt\")\n",
    "\n",
    "For MacOS and Linux you use slashes in the opposite direction:\n",
    "\n",
    "myfile = open(\"/Users/YourUserName/Folder/myfile.txt\")"
   ]
  },
  {
   "cell_type": "code",
   "execution_count": 37,
   "id": "b84b28e7",
   "metadata": {},
   "outputs": [
    {
     "data": {
      "text/plain": [
       "'Hello, this is a quick test file.\\nThis is the second line of text.\\n'"
      ]
     },
     "execution_count": 37,
     "metadata": {},
     "output_type": "execute_result"
    }
   ],
   "source": [
    "myfile.read()"
   ]
  },
  {
   "cell_type": "code",
   "execution_count": 38,
   "id": "71146cfa",
   "metadata": {},
   "outputs": [
    {
     "data": {
      "text/plain": [
       "0"
      ]
     },
     "execution_count": 38,
     "metadata": {},
     "output_type": "execute_result"
    }
   ],
   "source": [
    "myfile.seek(0)"
   ]
  },
  {
   "cell_type": "code",
   "execution_count": 41,
   "id": "674b55a1",
   "metadata": {},
   "outputs": [],
   "source": [
    "content= myfile.read()"
   ]
  },
  {
   "cell_type": "code",
   "execution_count": 42,
   "id": "4fa4c242",
   "metadata": {},
   "outputs": [
    {
     "data": {
      "text/plain": [
       "0"
      ]
     },
     "execution_count": 42,
     "metadata": {},
     "output_type": "execute_result"
    }
   ],
   "source": [
    "myfile.seek(0)"
   ]
  },
  {
   "cell_type": "code",
   "execution_count": 43,
   "id": "0cc27c06",
   "metadata": {},
   "outputs": [
    {
     "name": "stdout",
     "output_type": "stream",
     "text": [
      "Hello, this is a quick test file.\n",
      "This is the second line of text.\n",
      "\n"
     ]
    }
   ],
   "source": [
    "print(content)"
   ]
  },
  {
   "cell_type": "code",
   "execution_count": 44,
   "id": "ac9a4de2",
   "metadata": {},
   "outputs": [
    {
     "data": {
      "text/plain": [
       "'Hello, this is a quick test file.\\nThis is the second line of text.\\n'"
      ]
     },
     "execution_count": 44,
     "metadata": {},
     "output_type": "execute_result"
    }
   ],
   "source": [
    "content"
   ]
  },
  {
   "cell_type": "code",
   "execution_count": 45,
   "id": "3928d6a7",
   "metadata": {},
   "outputs": [],
   "source": [
    "myfile.close()"
   ]
  },
  {
   "cell_type": "code",
   "execution_count": 46,
   "id": "9ea14292",
   "metadata": {},
   "outputs": [],
   "source": [
    "myfile = open(\"test.txt\")"
   ]
  },
  {
   "cell_type": "code",
   "execution_count": 50,
   "id": "c66e00b4",
   "metadata": {},
   "outputs": [],
   "source": [
    "mylines= myfile.readlines()"
   ]
  },
  {
   "cell_type": "code",
   "execution_count": 51,
   "id": "14bdd1df",
   "metadata": {},
   "outputs": [
    {
     "data": {
      "text/plain": [
       "0"
      ]
     },
     "execution_count": 51,
     "metadata": {},
     "output_type": "execute_result"
    }
   ],
   "source": [
    "myfile.seek(0)"
   ]
  },
  {
   "cell_type": "code",
   "execution_count": 52,
   "id": "4bf68696",
   "metadata": {},
   "outputs": [
    {
     "name": "stdout",
     "output_type": "stream",
     "text": [
      "H\n",
      "T\n"
     ]
    }
   ],
   "source": [
    "for line in mylines:\n",
    "    print(line[0])"
   ]
  },
  {
   "cell_type": "code",
   "execution_count": 53,
   "id": "198bad76",
   "metadata": {},
   "outputs": [],
   "source": [
    "myfile.close()"
   ]
  },
  {
   "cell_type": "code",
   "execution_count": 54,
   "id": "9b7ad3c8",
   "metadata": {},
   "outputs": [],
   "source": [
    "myfile = open('test.txt','w+')"
   ]
  },
  {
   "cell_type": "code",
   "execution_count": 55,
   "id": "68f7b736",
   "metadata": {},
   "outputs": [
    {
     "data": {
      "text/plain": [
       "''"
      ]
     },
     "execution_count": 55,
     "metadata": {},
     "output_type": "execute_result"
    }
   ],
   "source": [
    "myfile.read()"
   ]
  },
  {
   "cell_type": "code",
   "execution_count": 56,
   "id": "a22d5bc1",
   "metadata": {},
   "outputs": [
    {
     "data": {
      "text/plain": [
       "14"
      ]
     },
     "execution_count": 56,
     "metadata": {},
     "output_type": "execute_result"
    }
   ],
   "source": [
    "myfile.write('Brand New Text')"
   ]
  },
  {
   "cell_type": "code",
   "execution_count": 57,
   "id": "5f8ad119",
   "metadata": {},
   "outputs": [
    {
     "data": {
      "text/plain": [
       "'Brand New Text'"
      ]
     },
     "execution_count": 57,
     "metadata": {},
     "output_type": "execute_result"
    }
   ],
   "source": [
    "myfile.seek(0)\n",
    "myfile.read()"
   ]
  },
  {
   "cell_type": "code",
   "execution_count": 58,
   "id": "93d9fa21",
   "metadata": {},
   "outputs": [],
   "source": [
    "myfile.close()"
   ]
  },
  {
   "cell_type": "code",
   "execution_count": 60,
   "id": "c22a74c0",
   "metadata": {},
   "outputs": [],
   "source": [
    "myfile = open('test.txt','a+')#append"
   ]
  },
  {
   "cell_type": "code",
   "execution_count": 61,
   "id": "2e631869",
   "metadata": {},
   "outputs": [],
   "source": [
    "myfile.write('First Line in a+ opening')\n",
    "myfile.close()"
   ]
  },
  {
   "cell_type": "code",
   "execution_count": 62,
   "id": "8931ad34",
   "metadata": {},
   "outputs": [],
   "source": [
    "newfile = open('test.txt')"
   ]
  },
  {
   "cell_type": "code",
   "execution_count": 63,
   "id": "a7cd5aa2",
   "metadata": {},
   "outputs": [
    {
     "data": {
      "text/plain": [
       "'Brand New TextFirst Line in a+ opening'"
      ]
     },
     "execution_count": 63,
     "metadata": {},
     "output_type": "execute_result"
    }
   ],
   "source": [
    "newfile.read()"
   ]
  },
  {
   "cell_type": "code",
   "execution_count": 64,
   "id": "fb3723ba",
   "metadata": {},
   "outputs": [],
   "source": [
    "newfile.close()"
   ]
  },
  {
   "cell_type": "code",
   "execution_count": 65,
   "id": "7ce5b156",
   "metadata": {},
   "outputs": [
    {
     "name": "stdout",
     "output_type": "stream",
     "text": [
      "Brand New TextFirst Line in a+ opening\n"
     ]
    }
   ],
   "source": [
    "with open('test.txt','r') as txt:\n",
    "    first_line = txt.readlines()[0]\n",
    "    \n",
    "print(first_line)"
   ]
  },
  {
   "cell_type": "code",
   "execution_count": 66,
   "id": "996c4d99",
   "metadata": {},
   "outputs": [],
   "source": [
    "#PDF FILES"
   ]
  },
  {
   "cell_type": "code",
   "execution_count": 3,
   "id": "0fb73cbd",
   "metadata": {},
   "outputs": [],
   "source": [
    "import PyPDF2\n",
    "myfile= open('US_Declaration.pdf',mode='rb')"
   ]
  },
  {
   "cell_type": "code",
   "execution_count": 4,
   "id": "1735f060",
   "metadata": {},
   "outputs": [],
   "source": [
    "pdf_reader = PyPDF2.PdfFileReader(myfile)"
   ]
  },
  {
   "cell_type": "code",
   "execution_count": 6,
   "id": "36ad5d3b",
   "metadata": {},
   "outputs": [
    {
     "data": {
      "text/plain": [
       "5"
      ]
     },
     "execution_count": 6,
     "metadata": {},
     "output_type": "execute_result"
    }
   ],
   "source": [
    "pdf_reader.numPages\n"
   ]
  },
  {
   "cell_type": "code",
   "execution_count": 10,
   "id": "0948ae2f",
   "metadata": {},
   "outputs": [],
   "source": [
    "page_one = pdf_reader.getPage(0)\n",
    "textonpageone=page_one.extractText()\n",
    "myfile.close()"
   ]
  },
  {
   "cell_type": "code",
   "execution_count": 11,
   "id": "96a72b6a",
   "metadata": {},
   "outputs": [],
   "source": [
    "f= open('US_Declaration.pdf',mode='rb')\n",
    "pdf_read= PyPDF2.PdfFileReader(f)\n",
    "fp = pdf_read.getPage(0)\n",
    "pdf_write= PyPDF2.PdfFileWriter()\n",
    "pdf_write.addPage(fp)\n",
    "pdf_out = open('BrandNew.pdf','wb')\n",
    "pdf_write.write(pdf_out)\n",
    "pdf_out.close()\n",
    "f.close()"
   ]
  },
  {
   "cell_type": "code",
   "execution_count": 12,
   "id": "d1594d10",
   "metadata": {},
   "outputs": [],
   "source": [
    "#\n",
    "f = open('US_Declaration.pdf','rb')\n",
    "\n",
    "# List of every page's text.\n",
    "# The index will correspond to the page number.\n",
    "pdf_text = [0]  # zero is a placehoder to make page 1 = index 1\n",
    "\n",
    "pdf_reader = PyPDF2.PdfFileReader(f)\n",
    "\n",
    "for p in range(pdf_reader.numPages):\n",
    "    \n",
    "    page = pdf_reader.getPage(p)\n",
    "    \n",
    "    pdf_text.append(page.extractText())\n",
    "\n",
    "f.close()"
   ]
  },
  {
   "cell_type": "code",
   "execution_count": 1,
   "id": "89d67c1a",
   "metadata": {},
   "outputs": [],
   "source": [
    "#REGEX"
   ]
  },
  {
   "cell_type": "code",
   "execution_count": 2,
   "id": "8925ab02",
   "metadata": {},
   "outputs": [
    {
     "data": {
      "text/plain": [
       "True"
      ]
     },
     "execution_count": 2,
     "metadata": {},
     "output_type": "execute_result"
    }
   ],
   "source": [
    "text = \"The agent's phone number is 408-555-1234. Call soon!\"\n",
    "'phone' in text"
   ]
  },
  {
   "cell_type": "code",
   "execution_count": 3,
   "id": "59d442d5",
   "metadata": {},
   "outputs": [
    {
     "data": {
      "text/plain": [
       "<re.Match object; span=(12, 17), match='phone'>"
      ]
     },
     "execution_count": 3,
     "metadata": {},
     "output_type": "execute_result"
    }
   ],
   "source": [
    "import re\n",
    "pattern= \"phone\"\n",
    "re.search(pattern,text)"
   ]
  },
  {
   "cell_type": "code",
   "execution_count": 4,
   "id": "4cdd4c65",
   "metadata": {},
   "outputs": [
    {
     "data": {
      "text/plain": [
       "(12, 17)"
      ]
     },
     "execution_count": 4,
     "metadata": {},
     "output_type": "execute_result"
    }
   ],
   "source": [
    "mymatch = re.search(pattern,text)\n",
    "mymatch.span()"
   ]
  },
  {
   "cell_type": "code",
   "execution_count": 6,
   "id": "50996597",
   "metadata": {},
   "outputs": [
    {
     "data": {
      "text/plain": [
       "12"
      ]
     },
     "execution_count": 6,
     "metadata": {},
     "output_type": "execute_result"
    }
   ],
   "source": [
    "mymatch.start()"
   ]
  },
  {
   "cell_type": "code",
   "execution_count": 7,
   "id": "c13c23ee",
   "metadata": {},
   "outputs": [
    {
     "name": "stdout",
     "output_type": "stream",
     "text": [
      "(12, 17)\n"
     ]
    }
   ],
   "source": [
    "allmatch= re.findall(\"phone\",text)\n",
    "len(allmatch)\n",
    "for match in re.finditer(\"phone\",text):\n",
    "    print(match.span())"
   ]
  },
  {
   "cell_type": "code",
   "execution_count": 9,
   "id": "f84d23f1",
   "metadata": {},
   "outputs": [],
   "source": [
    "#Patterns\n",
    "#Tables for Regex patterns and stuff"
   ]
  },
  {
   "cell_type": "code",
   "execution_count": 11,
   "id": "01417ba4",
   "metadata": {},
   "outputs": [
    {
     "data": {
      "text/plain": [
       "'408-555-1234'"
      ]
     },
     "execution_count": 11,
     "metadata": {},
     "output_type": "execute_result"
    }
   ],
   "source": [
    "pattern = r'\\d\\d\\d-\\d\\d\\d-\\d\\d\\d\\d'\n",
    "phoneno = re.search(pattern,text)#re.findall\n",
    "phoneno.group()"
   ]
  },
  {
   "cell_type": "markdown",
   "id": "934cf06b",
   "metadata": {},
   "source": [
    "/d- digit\n",
    "/w- alphanumeric\n",
    "/s- whitespace\n",
    "Capitals: NOT\n",
    "\n",
    "Quantifier\n",
    "+: one or more\n",
    "{n}: exactly n\n",
    "{n1,n2}: between n1 and n2\n",
    "{n,}: n or more times\n",
    "*: zero or more\n",
    "?: once or more"
   ]
  },
  {
   "cell_type": "code",
   "execution_count": 13,
   "id": "cb24fb4f",
   "metadata": {},
   "outputs": [
    {
     "data": {
      "text/plain": [
       "'408-555-1234'"
      ]
     },
     "execution_count": 13,
     "metadata": {},
     "output_type": "execute_result"
    }
   ],
   "source": [
    "#Group\n",
    "phone_pattern = re.compile(r'(\\d{3})-(\\d{3})-(\\d{4})')\n",
    "results = re.search(phone_pattern,text)\n",
    "# The entire result\n",
    "results.group()"
   ]
  },
  {
   "cell_type": "code",
   "execution_count": 14,
   "id": "6a29dbec",
   "metadata": {},
   "outputs": [
    {
     "data": {
      "text/plain": [
       "'408'"
      ]
     },
     "execution_count": 14,
     "metadata": {},
     "output_type": "execute_result"
    }
   ],
   "source": [
    "results.group(1)"
   ]
  },
  {
   "cell_type": "code",
   "execution_count": 15,
   "id": "733c8b96",
   "metadata": {},
   "outputs": [
    {
     "data": {
      "text/plain": [
       "<re.Match object; span=(5, 10), match='woman'>"
      ]
     },
     "execution_count": 15,
     "metadata": {},
     "output_type": "execute_result"
    }
   ],
   "source": [
    "#OR\n",
    "re.search(r\"man|woman\",\"This woman was here\")"
   ]
  },
  {
   "cell_type": "code",
   "execution_count": 17,
   "id": "2bac2926",
   "metadata": {},
   "outputs": [
    {
     "data": {
      "text/plain": [
       "['cat', 'hat', 'sat', 'lat']"
      ]
     },
     "execution_count": 17,
     "metadata": {},
     "output_type": "execute_result"
    }
   ],
   "source": [
    "#Wildcard\n",
    "re.findall(r\".at\",\"The cat in the hat sat splat\")"
   ]
  },
  {
   "cell_type": "code",
   "execution_count": 18,
   "id": "d9d81229",
   "metadata": {},
   "outputs": [
    {
     "data": {
      "text/plain": [
       "[' cat', ' hat', ' sat', 'plat']"
      ]
     },
     "execution_count": 18,
     "metadata": {},
     "output_type": "execute_result"
    }
   ],
   "source": [
    "re.findall(r\"..at\",\"The cat in the hat sat splat\")"
   ]
  },
  {
   "cell_type": "code",
   "execution_count": 20,
   "id": "1e1d734c",
   "metadata": {},
   "outputs": [
    {
     "data": {
      "text/plain": [
       "['2']"
      ]
     },
     "execution_count": 20,
     "metadata": {},
     "output_type": "execute_result"
    }
   ],
   "source": [
    "#Ends with\n",
    "re.findall(r\"\\d$\",\"Ends with 2\")"
   ]
  },
  {
   "cell_type": "code",
   "execution_count": 22,
   "id": "d8e76449",
   "metadata": {},
   "outputs": [
    {
     "data": {
      "text/plain": [
       "['1']"
      ]
     },
     "execution_count": 22,
     "metadata": {},
     "output_type": "execute_result"
    }
   ],
   "source": [
    "#starts with\n",
    "re.findall(r\"^\\d\",\"1 at start\") wir"
   ]
  },
  {
   "cell_type": "code",
   "execution_count": 24,
   "id": "eface64d",
   "metadata": {},
   "outputs": [
    {
     "data": {
      "text/plain": [
       "['There are ', ' numbers ', ' inside ', ' this sentence']"
      ]
     },
     "execution_count": 24,
     "metadata": {},
     "output_type": "execute_result"
    }
   ],
   "source": [
    "phrase = \"There are 3 numbers 34 inside 5 this sentence\"\n",
    "re.findall(r\"[^\\d]+\",phrase)#Exclusion ^ inside[]"
   ]
  },
  {
   "cell_type": "code",
   "execution_count": 26,
   "id": "87720fe2",
   "metadata": {},
   "outputs": [
    {
     "data": {
      "text/plain": [
       "'This is a string But it has punctuation How can we remove it'"
      ]
     },
     "execution_count": 26,
     "metadata": {},
     "output_type": "execute_result"
    }
   ],
   "source": [
    "#Remove Punctuation\n",
    "test_phrase = 'This is a string! But it has punctuation. How can we remove it?'\n",
    "re.findall('[^!.? ]+',test_phrase)\n",
    "clean = ' '.join(re.findall('[^!.? ]+',test_phrase))\n",
    "clean"
   ]
  },
  {
   "cell_type": "code",
   "execution_count": 27,
   "id": "97c6fe0c",
   "metadata": {},
   "outputs": [
    {
     "data": {
      "text/plain": [
       "['hyphen-words', 'long-ish']"
      ]
     },
     "execution_count": 27,
     "metadata": {},
     "output_type": "execute_result"
    }
   ],
   "source": [
    "#Grouping with brackets and +\n",
    "text = \"Only the hyphen-words. Where are the long-ish dash words?\"\n",
    "re.findall(r'[\\w]+-[\\w]+',text)"
   ]
  },
  {
   "cell_type": "code",
   "execution_count": null,
   "id": "52788d8b",
   "metadata": {},
   "outputs": [],
   "source": []
  }
 ],
 "metadata": {
  "kernelspec": {
   "display_name": "Python 3 (ipykernel)",
   "language": "python",
   "name": "python3"
  },
  "language_info": {
   "codemirror_mode": {
    "name": "ipython",
    "version": 3
   },
   "file_extension": ".py",
   "mimetype": "text/x-python",
   "name": "python",
   "nbconvert_exporter": "python",
   "pygments_lexer": "ipython3",
   "version": "3.7.11"
  }
 },
 "nbformat": 4,
 "nbformat_minor": 5
}
